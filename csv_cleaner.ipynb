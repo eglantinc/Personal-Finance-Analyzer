{
 "cells": [
  {
   "metadata": {
    "ExecuteTime": {
     "end_time": "2025-01-01T07:12:06.390881Z",
     "start_time": "2025-01-01T07:12:06.384012Z"
    }
   },
   "cell_type": "code",
   "source": [
    "import pandas as pd\n",
    "import numpy as np\n",
    "import matplotlib.pyplot as plt"
   ],
   "id": "8420d771da99e673",
   "outputs": [],
   "execution_count": 318
  },
  {
   "metadata": {
    "ExecuteTime": {
     "end_time": "2025-01-01T07:12:06.420963Z",
     "start_time": "2025-01-01T07:12:06.407108Z"
    }
   },
   "cell_type": "code",
   "source": "spending = pd.read_csv('spending_2024.csv', delimiter=';')",
   "id": "9119da70e4f0471f",
   "outputs": [],
   "execution_count": 319
  },
  {
   "metadata": {
    "ExecuteTime": {
     "end_time": "2025-01-01T07:12:06.447772Z",
     "start_time": "2025-01-01T07:12:06.433820Z"
    }
   },
   "cell_type": "code",
   "source": "spending.info()",
   "id": "1417fe36f74e0824",
   "outputs": [
    {
     "name": "stdout",
     "output_type": "stream",
     "text": [
      "<class 'pandas.core.frame.DataFrame'>\n",
      "RangeIndex: 334 entries, 0 to 333\n",
      "Data columns (total 3 columns):\n",
      " #   Column       Non-Null Count  Dtype  \n",
      "---  ------       --------------  -----  \n",
      " 0   Date         334 non-null    object \n",
      " 1   Description  334 non-null    object \n",
      " 2   Amount       301 non-null    float64\n",
      "dtypes: float64(1), object(2)\n",
      "memory usage: 8.0+ KB\n"
     ]
    }
   ],
   "execution_count": 320
  },
  {
   "metadata": {
    "ExecuteTime": {
     "end_time": "2025-01-01T07:12:06.481028Z",
     "start_time": "2025-01-01T07:12:06.472993Z"
    }
   },
   "cell_type": "code",
   "source": [
    "spending.drop(spending.loc[spending['Description'].str.contains(r'PAY CIUSSS DE L\\' EST DE MONTREAL', na=False)].index, inplace=True) # Need to ignore paycheck\n",
    "spending = spending.dropna() # Remove rows with null values"
   ],
   "id": "4bbcd60736e0a6d2",
   "outputs": [],
   "execution_count": 321
  },
  {
   "metadata": {
    "ExecuteTime": {
     "end_time": "2025-01-01T07:12:06.528697Z",
     "start_time": "2025-01-01T07:12:06.523319Z"
    }
   },
   "cell_type": "code",
   "source": [
    "spending.dropna(inplace=True) # Remove all the null values\n",
    "print(spending.isna().sum()) # Checking if there is any lines with null values"
   ],
   "id": "1e3604817085eadd",
   "outputs": [
    {
     "name": "stdout",
     "output_type": "stream",
     "text": [
      "Date           0\n",
      "Description    0\n",
      "Amount         0\n",
      "dtype: int64\n"
     ]
    }
   ],
   "execution_count": 322
  },
  {
   "metadata": {
    "ExecuteTime": {
     "end_time": "2025-01-01T07:12:06.567329Z",
     "start_time": "2025-01-01T07:12:06.562390Z"
    }
   },
   "cell_type": "code",
   "source": [
    "substring = 'RETAIL PURCHASE'\n",
    "spending['Description'] = spending['Description'].apply(lambda line:line[line.find(substring):] if substring in line else line)"
   ],
   "id": "f62c653e794d8b43",
   "outputs": [],
   "execution_count": 323
  },
  {
   "metadata": {
    "ExecuteTime": {
     "end_time": "2025-01-01T07:12:06.593328Z",
     "start_time": "2025-01-01T07:12:06.588414Z"
    }
   },
   "cell_type": "code",
   "source": [
    "def remove_numeric(substring):\n",
    "    if substring.isnumeric() and len(substring) == 12:\n",
    "        return ''\n",
    "    return substring\n",
    "\n",
    "spending['Description'] = spending['Description'].apply(\n",
    "    lambda line: \" \".join(remove_numeric(word) for word in line.split())\n",
    ")\n"
   ],
   "id": "88bc600e5e39d9c6",
   "outputs": [],
   "execution_count": 324
  },
  {
   "metadata": {
    "ExecuteTime": {
     "end_time": "2025-01-01T07:12:06.619325Z",
     "start_time": "2025-01-01T07:12:06.611145Z"
    }
   },
   "cell_type": "code",
   "source": "spending.head(5)",
   "id": "fa7a8b08da748ed",
   "outputs": [
    {
     "data": {
      "text/plain": [
       "         Date                                        Description  Amount\n",
       "0  2024-06-28                   RETAIL PURCHASE  SH VENDING80036    1.85\n",
       "1  2024-06-27                   RETAIL PURCHASE  SUPER C PTE AUX   28.19\n",
       "2  2024-06-27                   RETAIL PURCHASE  SH VENDING80036    3.15\n",
       "3  2024-06-26                   RETAIL PURCHASE  HOPITAL MAISONN    4.40\n",
       "4  2024-06-25  Electronic Funds Transfer PREAUTHORIZED DEBIT ...   18.97"
      ],
      "text/html": [
       "<div>\n",
       "<style scoped>\n",
       "    .dataframe tbody tr th:only-of-type {\n",
       "        vertical-align: middle;\n",
       "    }\n",
       "\n",
       "    .dataframe tbody tr th {\n",
       "        vertical-align: top;\n",
       "    }\n",
       "\n",
       "    .dataframe thead th {\n",
       "        text-align: right;\n",
       "    }\n",
       "</style>\n",
       "<table border=\"1\" class=\"dataframe\">\n",
       "  <thead>\n",
       "    <tr style=\"text-align: right;\">\n",
       "      <th></th>\n",
       "      <th>Date</th>\n",
       "      <th>Description</th>\n",
       "      <th>Amount</th>\n",
       "    </tr>\n",
       "  </thead>\n",
       "  <tbody>\n",
       "    <tr>\n",
       "      <th>0</th>\n",
       "      <td>2024-06-28</td>\n",
       "      <td>RETAIL PURCHASE  SH VENDING80036</td>\n",
       "      <td>1.85</td>\n",
       "    </tr>\n",
       "    <tr>\n",
       "      <th>1</th>\n",
       "      <td>2024-06-27</td>\n",
       "      <td>RETAIL PURCHASE  SUPER C PTE AUX</td>\n",
       "      <td>28.19</td>\n",
       "    </tr>\n",
       "    <tr>\n",
       "      <th>2</th>\n",
       "      <td>2024-06-27</td>\n",
       "      <td>RETAIL PURCHASE  SH VENDING80036</td>\n",
       "      <td>3.15</td>\n",
       "    </tr>\n",
       "    <tr>\n",
       "      <th>3</th>\n",
       "      <td>2024-06-26</td>\n",
       "      <td>RETAIL PURCHASE  HOPITAL MAISONN</td>\n",
       "      <td>4.40</td>\n",
       "    </tr>\n",
       "    <tr>\n",
       "      <th>4</th>\n",
       "      <td>2024-06-25</td>\n",
       "      <td>Electronic Funds Transfer PREAUTHORIZED DEBIT ...</td>\n",
       "      <td>18.97</td>\n",
       "    </tr>\n",
       "  </tbody>\n",
       "</table>\n",
       "</div>"
      ]
     },
     "execution_count": 325,
     "metadata": {},
     "output_type": "execute_result"
    }
   ],
   "execution_count": 325
  },
  {
   "metadata": {
    "ExecuteTime": {
     "end_time": "2025-01-01T07:12:06.667230Z",
     "start_time": "2025-01-01T07:12:06.663045Z"
    }
   },
   "cell_type": "code",
   "source": [
    "# Creating a dictionary to map category to a description\n",
    "category_keywords = {\n",
    "    \"Groceries\": [\"SUPER C\", \"JEAN COUTU\", \"IGA\", \"METRO\", \"PHARMAPRIX\", \"MAXI\", \"DOLLARA\", \"DEPANNEUR\"],\n",
    "    \"Health & Fitness\": [\"JUICE BAR\", \"NUTRITION\", \"KOALA\", \"CENTRE SPO\", \"SANTE\",  \"SAWA\"],\n",
    "    \"Work Meals\": [\"HOPITAL\", \"VENDING\"],\n",
    "    \"Savings\": [\"INVESTMENT\", \"MOKA\"],\n",
    "    \"Restaurants & Takeout\": [\"CAFE\", \"MUFFIN\", \"RESTAURA\", \"UBER\", \"TIM\", \"CUP\", \"POULET\", \"SUSHI\", \"AMIR\", \"ALLEY\", \"CREMIE\", \"CULTURES\", \"BRULERIE\", \"GRILLAD\", \"CULTUR\", \"PORTION\", \"DOORDA\", \"K73\", \"TIAMO\", \"BO WOK\", \"TEA\", \"BERRI\", \"SENS\", \"TABAG\", \"DEP\"],\n",
    "    \"Amazon\": [\"AMZN\", \"AMAZON\"],\n",
    "    \"Entertainment\": [\"NETFLIX\", \"LIBRAIR\", \"AUDIBLE\", \"PUTTING ED\"],\n",
    "    \"Essentials\" : [\"STM\", \"DEPANNEUR TRICE\", \"TELUS\", \"ECOLE DE\", \"FIDO\", \"UQAM\", \"UNIVERSITE\",  \"GOCARDLESS\", \"UDEMY\", \"KINDL\", \"QUIZL\"],\n",
    "    \"Beauty\" : [\"GARAGE\", \"SEPHORA\", \"WINNERS\", \"SOURCIL\", \"UNICE\", \"A+\", \"INHAIRITANCE\", \"YESSTY\", \"WITHDR\", \"HMHE\", \"PAYPAL\"],\n",
    "    \"Transfers & Withdrawals\" : [\"E-TRANSFER\"]\n",
    "}\n"
   ],
   "id": "41e9df5dad9bbc62",
   "outputs": [],
   "execution_count": 326
  },
  {
   "metadata": {
    "ExecuteTime": {
     "end_time": "2025-01-01T07:19:56.300593Z",
     "start_time": "2025-01-01T07:19:56.286204Z"
    }
   },
   "cell_type": "code",
   "source": [
    "def categorize_description(description):\n",
    "    description = description.upper()\n",
    "    for category, keywords in category_keywords.items():\n",
    "        if any(keyword in description for keyword in keywords):\n",
    "            return category\n",
    "    print(description)\n",
    "    return \"Unknown\"\n",
    "\n",
    "spending[\"Category\"] = spending[\"Description\"].apply(categorize_description)\n",
    "\n",
    "spending.head(10)\n"
   ],
   "id": "463e724e7bd5f3df",
   "outputs": [
    {
     "data": {
      "text/plain": [
       "         Date                                        Description  Amount  \\\n",
       "0  2024-06-28                   RETAIL PURCHASE  SH VENDING80036    1.85   \n",
       "1  2024-06-27                   RETAIL PURCHASE  SUPER C PTE AUX   28.19   \n",
       "2  2024-06-27                   RETAIL PURCHASE  SH VENDING80036    3.15   \n",
       "3  2024-06-26                   RETAIL PURCHASE  HOPITAL MAISONN    4.40   \n",
       "4  2024-06-25  Electronic Funds Transfer PREAUTHORIZED DEBIT ...   18.97   \n",
       "5  2024-06-25                       RETAIL PURCHASE  MUFFIN PLUS    6.67   \n",
       "6  2024-06-25                   RETAIL PURCHASE KOALAPRO PREMIU    14.89   \n",
       "7  2024-06-25                   RETAIL PURCHASE  HOPITAL MAISONN    5.70   \n",
       "8  2024-06-25                   RETAIL PURCHASE  HOPITAL MAISONN    1.80   \n",
       "9  2024-06-21                   RETAIL PURCHASE  TIM HORTONS #11    3.44   \n",
       "\n",
       "                Category  \n",
       "0             Work Meals  \n",
       "1              Groceries  \n",
       "2             Work Meals  \n",
       "3             Work Meals  \n",
       "4             Essentials  \n",
       "5  Restaurants & Takeout  \n",
       "6       Health & Fitness  \n",
       "7             Work Meals  \n",
       "8             Work Meals  \n",
       "9  Restaurants & Takeout  "
      ],
      "text/html": [
       "<div>\n",
       "<style scoped>\n",
       "    .dataframe tbody tr th:only-of-type {\n",
       "        vertical-align: middle;\n",
       "    }\n",
       "\n",
       "    .dataframe tbody tr th {\n",
       "        vertical-align: top;\n",
       "    }\n",
       "\n",
       "    .dataframe thead th {\n",
       "        text-align: right;\n",
       "    }\n",
       "</style>\n",
       "<table border=\"1\" class=\"dataframe\">\n",
       "  <thead>\n",
       "    <tr style=\"text-align: right;\">\n",
       "      <th></th>\n",
       "      <th>Date</th>\n",
       "      <th>Description</th>\n",
       "      <th>Amount</th>\n",
       "      <th>Category</th>\n",
       "    </tr>\n",
       "  </thead>\n",
       "  <tbody>\n",
       "    <tr>\n",
       "      <th>0</th>\n",
       "      <td>2024-06-28</td>\n",
       "      <td>RETAIL PURCHASE  SH VENDING80036</td>\n",
       "      <td>1.85</td>\n",
       "      <td>Work Meals</td>\n",
       "    </tr>\n",
       "    <tr>\n",
       "      <th>1</th>\n",
       "      <td>2024-06-27</td>\n",
       "      <td>RETAIL PURCHASE  SUPER C PTE AUX</td>\n",
       "      <td>28.19</td>\n",
       "      <td>Groceries</td>\n",
       "    </tr>\n",
       "    <tr>\n",
       "      <th>2</th>\n",
       "      <td>2024-06-27</td>\n",
       "      <td>RETAIL PURCHASE  SH VENDING80036</td>\n",
       "      <td>3.15</td>\n",
       "      <td>Work Meals</td>\n",
       "    </tr>\n",
       "    <tr>\n",
       "      <th>3</th>\n",
       "      <td>2024-06-26</td>\n",
       "      <td>RETAIL PURCHASE  HOPITAL MAISONN</td>\n",
       "      <td>4.40</td>\n",
       "      <td>Work Meals</td>\n",
       "    </tr>\n",
       "    <tr>\n",
       "      <th>4</th>\n",
       "      <td>2024-06-25</td>\n",
       "      <td>Electronic Funds Transfer PREAUTHORIZED DEBIT ...</td>\n",
       "      <td>18.97</td>\n",
       "      <td>Essentials</td>\n",
       "    </tr>\n",
       "    <tr>\n",
       "      <th>5</th>\n",
       "      <td>2024-06-25</td>\n",
       "      <td>RETAIL PURCHASE  MUFFIN PLUS</td>\n",
       "      <td>6.67</td>\n",
       "      <td>Restaurants &amp; Takeout</td>\n",
       "    </tr>\n",
       "    <tr>\n",
       "      <th>6</th>\n",
       "      <td>2024-06-25</td>\n",
       "      <td>RETAIL PURCHASE KOALAPRO PREMIU</td>\n",
       "      <td>14.89</td>\n",
       "      <td>Health &amp; Fitness</td>\n",
       "    </tr>\n",
       "    <tr>\n",
       "      <th>7</th>\n",
       "      <td>2024-06-25</td>\n",
       "      <td>RETAIL PURCHASE  HOPITAL MAISONN</td>\n",
       "      <td>5.70</td>\n",
       "      <td>Work Meals</td>\n",
       "    </tr>\n",
       "    <tr>\n",
       "      <th>8</th>\n",
       "      <td>2024-06-25</td>\n",
       "      <td>RETAIL PURCHASE  HOPITAL MAISONN</td>\n",
       "      <td>1.80</td>\n",
       "      <td>Work Meals</td>\n",
       "    </tr>\n",
       "    <tr>\n",
       "      <th>9</th>\n",
       "      <td>2024-06-21</td>\n",
       "      <td>RETAIL PURCHASE  TIM HORTONS #11</td>\n",
       "      <td>3.44</td>\n",
       "      <td>Restaurants &amp; Takeout</td>\n",
       "    </tr>\n",
       "  </tbody>\n",
       "</table>\n",
       "</div>"
      ]
     },
     "execution_count": 335,
     "metadata": {},
     "output_type": "execute_result"
    }
   ],
   "execution_count": 335
  },
  {
   "metadata": {
    "ExecuteTime": {
     "end_time": "2025-01-01T07:19:58.756620Z",
     "start_time": "2025-01-01T07:19:58.649147Z"
    }
   },
   "cell_type": "code",
   "source": [
    "grouped_df = spending.groupby('Category', as_index=False)['Amount'].sum()\n",
    "plt.pie(grouped_df['Amount'], labels=grouped_df['Category'], autopct='%1.1f%%')\n",
    "plt.title('Consolidated Expenses')\n",
    "plt.show()\n",
    "\n"
   ],
   "id": "9e55d805984405ce",
   "outputs": [
    {
     "data": {
      "text/plain": [
       "<Figure size 640x480 with 1 Axes>"
      ],
      "image/png": "[encoded data removed]"
     },
     "metadata": {},
     "output_type": "display_data"
    }
   ],
   "execution_count": 336
  }
 ],
 "metadata": {
  "kernelspec": {
   "name": "python3",
   "language": "python",
   "display_name": "Python 3 (ipykernel)"
  }
 },
 "nbformat": 5,
 "nbformat_minor": 9
}
