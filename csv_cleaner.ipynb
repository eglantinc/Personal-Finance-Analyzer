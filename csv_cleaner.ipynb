{
 "cells": [
  {
   "metadata": {
    "ExecuteTime": {
     "end_time": "2024-12-31T22:03:55.160435Z",
     "start_time": "2024-12-31T22:03:55.154867Z"
    }
   },
   "cell_type": "code",
   "source": "import pandas as pd",
   "id": "8420d771da99e673",
   "outputs": [],
   "execution_count": 72
  },
  {
   "metadata": {
    "ExecuteTime": {
     "end_time": "2024-12-31T22:04:15.107658Z",
     "start_time": "2024-12-31T22:04:15.099938Z"
    }
   },
   "cell_type": "code",
   "source": "spending = pd.read_csv('spending_2024.csv', delimiter=';')",
   "id": "9119da70e4f0471f",
   "outputs": [],
   "execution_count": 77
  },
  {
   "metadata": {
    "ExecuteTime": {
     "end_time": "2024-12-31T22:04:16.696624Z",
     "start_time": "2024-12-31T22:04:16.686670Z"
    }
   },
   "cell_type": "code",
   "source": "spending.info()",
   "id": "1417fe36f74e0824",
   "outputs": [
    {
     "name": "stdout",
     "output_type": "stream",
     "text": [
      "<class 'pandas.core.frame.DataFrame'>\n",
      "RangeIndex: 368 entries, 0 to 367\n",
      "Data columns (total 3 columns):\n",
      " #   Column       Non-Null Count  Dtype  \n",
      "---  ------       --------------  -----  \n",
      " 0   Date         368 non-null    object \n",
      " 1   Description  368 non-null    object \n",
      " 2   Amount       337 non-null    float64\n",
      "dtypes: float64(1), object(2)\n",
      "memory usage: 8.8+ KB\n"
     ]
    }
   ],
   "execution_count": 78
  },
  {
   "metadata": {
    "ExecuteTime": {
     "end_time": "2024-12-31T22:04:18.471672Z",
     "start_time": "2024-12-31T22:04:18.464735Z"
    }
   },
   "cell_type": "code",
   "source": [
    "spending.drop(spending.loc[spending['Description'].str.contains(r'PAY CIUSSS DE L\\' EST DE MONTREAL', na=False)].index, inplace=True) # Need to ignore paycheck\n",
    "spending = spending.dropna() # Remove rows with null values"
   ],
   "id": "4bbcd60736e0a6d2",
   "outputs": [],
   "execution_count": 79
  },
  {
   "metadata": {
    "ExecuteTime": {
     "end_time": "2024-12-31T22:04:19.855122Z",
     "start_time": "2024-12-31T22:04:19.848339Z"
    }
   },
   "cell_type": "code",
   "source": [
    "spending.dropna(inplace=True) # Remove all the null values\n",
    "print(spending.isna().sum()) # Checking if there is any lines with null values"
   ],
   "id": "1e3604817085eadd",
   "outputs": [
    {
     "name": "stdout",
     "output_type": "stream",
     "text": [
      "Date           0\n",
      "Description    0\n",
      "Amount         0\n",
      "dtype: int64\n"
     ]
    }
   ],
   "execution_count": 80
  },
  {
   "metadata": {
    "ExecuteTime": {
     "end_time": "2024-12-31T22:04:21.662889Z",
     "start_time": "2024-12-31T22:04:21.657988Z"
    }
   },
   "cell_type": "code",
   "source": [
    "substring = 'RETAIL PURCHASE'\n",
    "spending['Description'] = spending['Description'].apply(lambda line:line[line.find(substring):] if substring in line else line)"
   ],
   "id": "f62c653e794d8b43",
   "outputs": [],
   "execution_count": 81
  },
  {
   "metadata": {
    "ExecuteTime": {
     "end_time": "2024-12-31T22:04:24.535406Z",
     "start_time": "2024-12-31T22:04:24.527569Z"
    }
   },
   "cell_type": "code",
   "source": [
    "\n",
    "\n",
    "def remove_numeric(substring):\n",
    "    if substring.isnumeric() and len(substring) == 12:\n",
    "        return ''\n",
    "    return substring\n",
    "\n",
    "spending['Description'] = spending['Description'].apply(\n",
    "    lambda line: \" \".join(remove_numeric(word) for word in line.split())\n",
    ")\n"
   ],
   "id": "88bc600e5e39d9c6",
   "outputs": [
    {
     "name": "stdout",
     "output_type": "stream",
     "text": [
      "0                        RETAIL PURCHASE SH VENDING80036\n",
      "1                        RETAIL PURCHASE SUPER C PTE AUX\n",
      "2                        RETAIL PURCHASE SH VENDING80036\n",
      "3                        RETAIL PURCHASE HOPITAL MAISONN\n",
      "4      Electronic Funds Transfer PREAUTHORIZED DEBIT ...\n",
      "                             ...                        \n",
      "363                      RETAIL PURCHASE DEPANNEUR TRICE\n",
      "364                       RETAIL PURCHASE A+ PRODUITS DE\n",
      "365                      RETAIL PURCHASE DOLLARAMA # 130\n",
      "366                      RETAIL PURCHASE WINNERS/HOMESEN\n",
      "367                         RETAIL PURCHASE AMZN Mktp CA\n",
      "Name: Description, Length: 337, dtype: object\n"
     ]
    }
   ],
   "execution_count": 83
  },
  {
   "metadata": {
    "ExecuteTime": {
     "end_time": "2024-12-31T22:09:46.285780Z",
     "start_time": "2024-12-31T22:09:46.273211Z"
    }
   },
   "cell_type": "code",
   "source": "spending.head(5)",
   "id": "fa7a8b08da748ed",
   "outputs": [
    {
     "data": {
      "text/plain": [
       "         Date                                        Description  Amount\n",
       "0  2024-06-28                    RETAIL PURCHASE SH VENDING80036    1.85\n",
       "1  2024-06-27                    RETAIL PURCHASE SUPER C PTE AUX   28.19\n",
       "2  2024-06-27                    RETAIL PURCHASE SH VENDING80036    3.15\n",
       "3  2024-06-26                    RETAIL PURCHASE HOPITAL MAISONN    4.40\n",
       "4  2024-06-25  Electronic Funds Transfer PREAUTHORIZED DEBIT ...   18.97"
      ],
      "text/html": [
       "<div>\n",
       "<style scoped>\n",
       "    .dataframe tbody tr th:only-of-type {\n",
       "        vertical-align: middle;\n",
       "    }\n",
       "\n",
       "    .dataframe tbody tr th {\n",
       "        vertical-align: top;\n",
       "    }\n",
       "\n",
       "    .dataframe thead th {\n",
       "        text-align: right;\n",
       "    }\n",
       "</style>\n",
       "<table border=\"1\" class=\"dataframe\">\n",
       "  <thead>\n",
       "    <tr style=\"text-align: right;\">\n",
       "      <th></th>\n",
       "      <th>Date</th>\n",
       "      <th>Description</th>\n",
       "      <th>Amount</th>\n",
       "    </tr>\n",
       "  </thead>\n",
       "  <tbody>\n",
       "    <tr>\n",
       "      <th>0</th>\n",
       "      <td>2024-06-28</td>\n",
       "      <td>RETAIL PURCHASE SH VENDING80036</td>\n",
       "      <td>1.85</td>\n",
       "    </tr>\n",
       "    <tr>\n",
       "      <th>1</th>\n",
       "      <td>2024-06-27</td>\n",
       "      <td>RETAIL PURCHASE SUPER C PTE AUX</td>\n",
       "      <td>28.19</td>\n",
       "    </tr>\n",
       "    <tr>\n",
       "      <th>2</th>\n",
       "      <td>2024-06-27</td>\n",
       "      <td>RETAIL PURCHASE SH VENDING80036</td>\n",
       "      <td>3.15</td>\n",
       "    </tr>\n",
       "    <tr>\n",
       "      <th>3</th>\n",
       "      <td>2024-06-26</td>\n",
       "      <td>RETAIL PURCHASE HOPITAL MAISONN</td>\n",
       "      <td>4.40</td>\n",
       "    </tr>\n",
       "    <tr>\n",
       "      <th>4</th>\n",
       "      <td>2024-06-25</td>\n",
       "      <td>Electronic Funds Transfer PREAUTHORIZED DEBIT ...</td>\n",
       "      <td>18.97</td>\n",
       "    </tr>\n",
       "  </tbody>\n",
       "</table>\n",
       "</div>"
      ]
     },
     "execution_count": 86,
     "metadata": {},
     "output_type": "execute_result"
    }
   ],
   "execution_count": 86
  }
 ],
 "metadata": {
  "kernelspec": {
   "name": "python3",
   "language": "python",
   "display_name": "Python 3 (ipykernel)"
  }
 },
 "nbformat": 5,
 "nbformat_minor": 9
}
